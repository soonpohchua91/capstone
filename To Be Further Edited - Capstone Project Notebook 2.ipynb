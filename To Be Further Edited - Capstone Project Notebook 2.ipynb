{
 "cells": [
  {
   "cell_type": "markdown",
   "id": "39055511-c69f-4128-b122-238752ecf2e5",
   "metadata": {},
   "source": [
    "<img src=\"http://imgur.com/1ZcRyrc.png\" style=\"float: left; margin: 20px; height: 55px\"> \n",
    "\n",
    "# Capstone: Project Elimi-'Hate'"
   ]
  },
  {
   "cell_type": "markdown",
   "id": "901cfa82-c358-410b-9dc9-e5c17b8fecfb",
   "metadata": {},
   "source": [
    "Note: This is part 2 of the code notebook covering the following :-\n",
    "\n",
    "1. [Library Imports & Functions Creation](#1.-Library-Imports-&-Functions-Creation)\n",
    "2. [Preparation for Modelling Part 2: Vectorization](#3.-Preparation-for-Modelling-Part-2:-Vectorization)\n",
    "3. [Baseline Model](#3.-Baseline-Model)\n",
    "4. [Alternative Models](#4.-Alternative-Models)\n",
    "5. [Evaluation of Best Model](#5.-Evaluation-of-Best-Model)\n",
    "6. [Summary of Notebook 2](#4.-Summary-of-Notebook-2)"
   ]
  },
  {
   "cell_type": "markdown",
   "id": "6ca5b45e-6eba-40ea-b9c3-eda3af9dc70e",
   "metadata": {},
   "source": [
    "## 1. Library Imports & Functions Creation"
   ]
  },
  {
   "cell_type": "code",
   "execution_count": 1,
   "id": "672b62d2-4e39-41f5-b414-2fad90eb3c79",
   "metadata": {},
   "outputs": [
    {
     "name": "stdout",
     "output_type": "stream",
     "text": [
      "Init Plugin\n",
      "Init Graph Optimizer\n",
      "Init Kernel\n"
     ]
    }
   ],
   "source": [
    "import matplotlib.pyplot as plt\n",
    "import numpy as np\n",
    "import pandas as pd\n",
    "import pickle\n",
    "import tensorflow\n",
    "import warnings\n",
    "from numpy.random import seed\n",
    "from sklearn.feature_extraction.text import TfidfVectorizer\n",
    "from skmultilearn.model_selection import iterative_train_test_split\n",
    "from sklearn import metrics\n",
    "from skmultilearn.problem_transform import BinaryRelevance, ClassifierChain\n",
    "from sklearn.naive_bayes import MultinomialNB\n",
    "from sklearn.metrics import classification_report\n",
    "from skmultilearn.adapt import MLARAM\n",
    "from tensorflow.keras.callbacks import EarlyStopping\n",
    "from tensorflow.keras.layers import Embedding, LSTM, Dense, Dropout\n",
    "from tensorflow.keras.models import load_model\n",
    "from tensorflow.keras.models import Sequential\n",
    "from tensorflow.keras.optimizers import Adam\n",
    "from tensorflow.keras.preprocessing import sequence\n",
    "from tensorflow.keras.preprocessing.text import Tokenizer\n",
    "from tensorflow.keras.regularizers import l2 \n",
    "from tqdm import tqdm\n",
    "from warnings import simplefilter\n"
   ]
  },
  {
   "cell_type": "code",
   "execution_count": 2,
   "id": "0f778aa0-9571-4362-a19f-95a2e0ba1cfe",
   "metadata": {},
   "outputs": [],
   "source": [
    "def build_model(model,mlb_estimator,xtrain,ytrain,xtest,ytest):\n",
    "    clf = mlb_estimator(model)\n",
    "    clf.fit(xtrain,ytrain)\n",
    "    prediction = clf.predict(xtest)\n",
    "    label_names = ['disrespectful', 'insulting', 'offensive', 'discriminating', 'humiliating', 'hateful', 'dehumanizing']\n",
    "    class_report = metrics.classification_report(y_test, prediction, target_names=label_names) \n",
    "    return print(class_report)"
   ]
  },
  {
   "cell_type": "markdown",
   "id": "2d13b74e-8c54-42c9-b73b-666ce439f502",
   "metadata": {},
   "source": [
    "## 2. Preparation for Modelling Part 2: Vectorization\n",
    "\n",
    "We shall proceed to :-\n",
    "1. import the cleaned dataframe from previous notebook;\n",
    "2. check and remove rows with null values arising from the import;\n",
    "3. separate the target variables from the features;\n",
    "4. apply train-test split; and\n",
    "5. apply TF-IDF vectorization."
   ]
  },
  {
   "cell_type": "code",
   "execution_count": 3,
   "id": "f95c98ec-0725-439f-b5dc-d76caff22371",
   "metadata": {},
   "outputs": [
    {
     "data": {
      "text/html": [
       "<div>\n",
       "<style scoped>\n",
       "    .dataframe tbody tr th:only-of-type {\n",
       "        vertical-align: middle;\n",
       "    }\n",
       "\n",
       "    .dataframe tbody tr th {\n",
       "        vertical-align: top;\n",
       "    }\n",
       "\n",
       "    .dataframe thead th {\n",
       "        text-align: right;\n",
       "    }\n",
       "</style>\n",
       "<table border=\"1\" class=\"dataframe\">\n",
       "  <thead>\n",
       "    <tr style=\"text-align: right;\">\n",
       "      <th></th>\n",
       "      <th>comment_id</th>\n",
       "      <th>text</th>\n",
       "      <th>disrespectful</th>\n",
       "      <th>insulting</th>\n",
       "      <th>humiliating</th>\n",
       "      <th>discriminating</th>\n",
       "      <th>dehumanizing</th>\n",
       "      <th>offensive</th>\n",
       "      <th>hateful</th>\n",
       "    </tr>\n",
       "  </thead>\n",
       "  <tbody>\n",
       "    <tr>\n",
       "      <th>0</th>\n",
       "      <td>1</td>\n",
       "      <td>white people trash</td>\n",
       "      <td>1</td>\n",
       "      <td>1</td>\n",
       "      <td>1</td>\n",
       "      <td>1</td>\n",
       "      <td>1</td>\n",
       "      <td>1</td>\n",
       "      <td>1</td>\n",
       "    </tr>\n",
       "    <tr>\n",
       "      <th>1</th>\n",
       "      <td>2</td>\n",
       "      <td>youve caught big gay known airborne dildo</td>\n",
       "      <td>1</td>\n",
       "      <td>1</td>\n",
       "      <td>1</td>\n",
       "      <td>1</td>\n",
       "      <td>0</td>\n",
       "      <td>1</td>\n",
       "      <td>1</td>\n",
       "    </tr>\n",
       "  </tbody>\n",
       "</table>\n",
       "</div>"
      ],
      "text/plain": [
       "   comment_id                                       text  disrespectful  \\\n",
       "0           1                         white people trash              1   \n",
       "1           2  youve caught big gay known airborne dildo              1   \n",
       "\n",
       "   insulting  humiliating  discriminating  dehumanizing  offensive  hateful  \n",
       "0          1            1               1             1          1        1  \n",
       "1          1            1               1             0          1        1  "
      ]
     },
     "execution_count": 3,
     "metadata": {},
     "output_type": "execute_result"
    }
   ],
   "source": [
    "# Step 1: Importing the dataset and provide a recap\n",
    "df = pd.read_csv('df_cleaned.csv')\n",
    "df.head(2)"
   ]
  },
  {
   "cell_type": "code",
   "execution_count": 4,
   "id": "d84a7d63-0277-4ce3-aa38-737b1b6fb2dc",
   "metadata": {},
   "outputs": [
    {
     "data": {
      "text/html": [
       "<div>\n",
       "<style scoped>\n",
       "    .dataframe tbody tr th:only-of-type {\n",
       "        vertical-align: middle;\n",
       "    }\n",
       "\n",
       "    .dataframe tbody tr th {\n",
       "        vertical-align: top;\n",
       "    }\n",
       "\n",
       "    .dataframe thead th {\n",
       "        text-align: right;\n",
       "    }\n",
       "</style>\n",
       "<table border=\"1\" class=\"dataframe\">\n",
       "  <thead>\n",
       "    <tr style=\"text-align: right;\">\n",
       "      <th></th>\n",
       "      <th>col</th>\n",
       "      <th>num_nulls</th>\n",
       "      <th>%nulls</th>\n",
       "    </tr>\n",
       "  </thead>\n",
       "  <tbody>\n",
       "    <tr>\n",
       "      <th>1</th>\n",
       "      <td>text</td>\n",
       "      <td>2</td>\n",
       "      <td>0.005055</td>\n",
       "    </tr>\n",
       "  </tbody>\n",
       "</table>\n",
       "</div>"
      ],
      "text/plain": [
       "    col  num_nulls    %nulls\n",
       "1  text          2  0.005055"
      ]
     },
     "metadata": {},
     "output_type": "display_data"
    }
   ],
   "source": [
    "# Step 2: Checking for null values\n",
    "pd.DataFrame(df.isna().sum())\n",
    "pd.DataFrame(df.isna().sum()).reset_index()\n",
    "missing_df = pd.DataFrame(df.isna().sum()).reset_index()\n",
    "missing_df.columns = ['col', 'num_nulls'] \n",
    "missing_df['%nulls'] = missing_df['num_nulls']*100/len(df)\n",
    "missing_df = missing_df[missing_df['num_nulls']>0].sort_values(by=[\"%nulls\"], ascending=False)\n",
    "display(missing_df)"
   ]
  },
  {
   "cell_type": "code",
   "execution_count": 5,
   "id": "63577fd9-1cf3-4e2e-8b5d-5084d30e9399",
   "metadata": {},
   "outputs": [],
   "source": [
    "# Drop null rows due to data import\n",
    "df.dropna(inplace=True)\n",
    "df.reset_index(drop=True, inplace=True)"
   ]
  },
  {
   "cell_type": "code",
   "execution_count": 6,
   "id": "70df9a6e-7c27-4de1-a99d-3cc1806a2aff",
   "metadata": {},
   "outputs": [],
   "source": [
    "# Extracting the targets \n",
    "targets = df[['disrespectful', 'insulting', 'humiliating', 'dehumanizing', 'discriminating','offensive', 'hateful']]\n",
    "targets = targets.loc[:, ['disrespectful', 'insulting', 'offensive', 'discriminating', 'humiliating', 'hateful', 'dehumanizing']]"
   ]
  },
  {
   "cell_type": "code",
   "execution_count": 7,
   "id": "a891b6a8-808c-45fd-80dd-33a74917e183",
   "metadata": {},
   "outputs": [],
   "source": [
    "# Step 3: Preparing for train_test split\n",
    "X = [[i] for i in df['text']]\n",
    "y = targets  \n",
    "X = np.array(X)\n",
    "y = y.to_numpy()"
   ]
  },
  {
   "cell_type": "code",
   "execution_count": 8,
   "id": "002afc68-7c18-4fab-8533-6f72237b0f36",
   "metadata": {},
   "outputs": [
    {
     "name": "stdout",
     "output_type": "stream",
     "text": [
      "Number of Rows Remaining for Modeling: 39563.\n"
     ]
    }
   ],
   "source": [
    "print(f'Number of Rows Remaining for Modeling: {len(df)}.')"
   ]
  },
  {
   "cell_type": "code",
   "execution_count": 9,
   "id": "edb47838-1ef1-427a-b0c4-228f6ea99d55",
   "metadata": {},
   "outputs": [],
   "source": [
    "# Step 4: Train-test split using random seed 27\n",
    "np.random.seed(27)\n",
    "X_train, y_train, X_test, y_test = iterative_train_test_split(X, y, test_size = 0.25)"
   ]
  },
  {
   "cell_type": "code",
   "execution_count": 10,
   "id": "8540be0e-94a7-4167-8e8c-7f83fcb68e2e",
   "metadata": {},
   "outputs": [],
   "source": [
    "# Changing from np array to list\n",
    "X_train = [i[0] for i in X_train]\n",
    "X_test = [i[0] for i in X_test]"
   ]
  },
  {
   "cell_type": "code",
   "execution_count": 11,
   "id": "f572b3c6-80a0-499d-baee-ea0f69fdfcce",
   "metadata": {},
   "outputs": [],
   "source": [
    "# Step 5: Apply tf-idf vectorization\n",
    "warnings.simplefilter(action='ignore', category=FutureWarning)\n",
    "tfid = TfidfVectorizer(stop_words='english')\n",
    "X_train = tfid.fit_transform(X_train)\n",
    "X_test = tfid.transform(X_test)"
   ]
  },
  {
   "cell_type": "code",
   "execution_count": 12,
   "id": "249ec225-1e23-4679-8ae2-1fe0f9c2057a",
   "metadata": {},
   "outputs": [],
   "source": [
    "X_train = pd.DataFrame.sparse.from_spmatrix(X_train, columns = tfid.get_feature_names())\n",
    "X_test = pd.DataFrame.sparse.from_spmatrix(X_test, columns = tfid.get_feature_names())"
   ]
  },
  {
   "cell_type": "markdown",
   "id": "775a906e-f0d1-4208-8e48-501a776ebe41",
   "metadata": {},
   "source": [
    "Choice of vectorizer is most commonly between count vectorizer and Term Frequency-Inverse Document Frequency (TF-IDF) vectorizer. Given that TF-IDF vectorizer is able to account for frequency of words present and uncover those which are more important for analysis, it is preferred over count vectorizer."
   ]
  },
  {
   "cell_type": "code",
   "execution_count": 13,
   "id": "f1331455-c55b-426f-871f-6d41e19c984e",
   "metadata": {},
   "outputs": [
    {
     "name": "stdout",
     "output_type": "stream",
     "text": [
      "Number of Features from Train Dataset: 43671.\n"
     ]
    }
   ],
   "source": [
    "print(f'Number of Features from Train Dataset: {len(X_train. columns)}.')"
   ]
  },
  {
   "cell_type": "code",
   "execution_count": 14,
   "id": "9f4a9e18-0d19-49f1-a7c1-eb2ef61452c4",
   "metadata": {},
   "outputs": [
    {
     "name": "stdout",
     "output_type": "stream",
     "text": [
      "Number of Features from Test Dataset: 43671.\n"
     ]
    }
   ],
   "source": [
    "print(f'Number of Features from Test Dataset: {len(X_train. columns)}.')"
   ]
  },
  {
   "cell_type": "markdown",
   "id": "aac9b2c1-d4fe-4d65-a134-0f6ef699331b",
   "metadata": {},
   "source": [
    "## 3. Baseline Model"
   ]
  },
  {
   "cell_type": "markdown",
   "id": "37df662f-fa5d-4f66-a40a-ec82644afacb",
   "metadata": {},
   "source": [
    "### - Binary Relevance & Naives Bayes"
   ]
  },
  {
   "cell_type": "markdown",
   "id": "d3d16601-6dbd-490f-acc8-cb90b2e3839a",
   "metadata": {},
   "source": [
    "We shall implement a baseline model using binary relevance and naives bayes for the multi-label classification tasks, which involves using 43671 word features to predict seven target labels (`disrespectful`, `insulting`, `offensive`, `discriminating`, `humiliating`, `hateful` & `dehumanizing`).\n",
    "\n",
    "Binary relevance assumes each target label is mutually exclusive of each other. Naives bayes classified method is chose to accompany binary relevance as it is most commonly used for NLP tasks and requires the least processing power for modeling."
   ]
  },
  {
   "cell_type": "code",
   "execution_count": 15,
   "id": "76e1a93d-98fa-4012-812f-b66fdc6d0ac1",
   "metadata": {},
   "outputs": [
    {
     "name": "stdout",
     "output_type": "stream",
     "text": [
      "                precision    recall  f1-score   support\n",
      "\n",
      " disrespectful       0.75      0.98      0.85      6899\n",
      "     insulting       0.73      0.95      0.83      6166\n",
      "     offensive       0.71      0.94      0.81      6043\n",
      "discriminating       0.67      0.91      0.77      5861\n",
      "   humiliating       0.73      0.81      0.77      5202\n",
      "       hateful       0.81      0.41      0.55      3659\n",
      "  dehumanizing       0.72      0.18      0.29      3301\n",
      "\n",
      "     micro avg       0.72      0.81      0.76     37131\n",
      "     macro avg       0.73      0.74      0.70     37131\n",
      "  weighted avg       0.73      0.81      0.74     37131\n",
      "   samples avg       0.61      0.60      0.58     37131\n",
      "\n"
     ]
    }
   ],
   "source": [
    "warnings.filterwarnings(\"ignore\")\n",
    "build_model(MultinomialNB(),BinaryRelevance,X_train,y_train,X_test,y_test)"
   ]
  },
  {
   "cell_type": "markdown",
   "id": "7824d175-9e69-4333-a007-26821ab4bb26",
   "metadata": {},
   "source": [
    "### Methodology for Evaluation\n",
    "\n",
    "1. Classification report, which provides an overview of the precision, recall and f1-scores for each label and the labels collectively, is the preferred method for evaluation.\n",
    "2. Of key importance is the f1-score, which is the harmonic mean of both precision and recall scores. Precision measures how well the model performs out of all predictions while recall measures how well the model performs out of all actual labels. In other words, increasing precision score means that the model is able to elimate false prediction better and increasing recall score means that the model is able to pick out those wrongly predicted actual labels better. Using f-1 score will allow us to strike a balance between precision and recall scores as they are often in tension with each other. \n",
    "3. Apart from individual f-1 scores, micro and macro average f-1 scores shall also taken into account for evaluation. Micro average f-1 score averages based on the different weightage of each label, while macro average f-1 score measures the average of the recall score of each label based on equal weightage.\n",
    "4. F-1 score assumes equal weightage between precision and recall scores. Nevertheless, given the context of this project to pick out unhelpful comments, the priority is to make sure that as many of such comments are being flagged out throuh the model. Hence, in evaluating model with similar f-1 scores, recall scores will take slight priority over precision."
   ]
  },
  {
   "cell_type": "markdown",
   "id": "ddd759a4-9a43-45d1-b29d-70809caec067",
   "metadata": {},
   "source": [
    "### Evaluation of Base Model: Binary Relevance & Naives Bayes\n",
    "\n",
    "- **Individual f-1 Scores**: Base model is able to perform relatively well in f-1 scores for most labels apart from `hateful` and `dehumanizing`, which fared below 0.6. Given the project's focus on hate speech, the score of 0.55 is not ideal. Moreover, the 0.29 score for `dehumanizing` is also low.\n",
    "- **Micro Avg & Macro Avg f-1 Scores**: The model fared better in macro average and micro average scores with macro average performing worse than micro average when assuming equal weightage for `hateful` and `dehumanizing` labels.\n",
    "- **Precision vs. Recall Scores**: Of the well preforming labels (with f-1 scores above 0.75), recall performs better than precision. However, the opposite is true for `hateful` and `dehumanizing` labels. This means that the low f-1 scores of both labels are mainly due to their low recall scores. In other words, the model has the tendency to miss out on these true labels.\n",
    "- **Summary**: In short, the base model leaves room for improvement, especially for the f-1 scores of both `hateful` and `dehumanizing` labels."
   ]
  },
  {
   "cell_type": "markdown",
   "id": "d52546b7-9336-4d4c-a7b7-6a979e6e6751",
   "metadata": {},
   "source": [
    "## 4. Alternative Models"
   ]
  },
  {
   "cell_type": "markdown",
   "id": "2352f6da-3047-4260-a666-09311aa27fba",
   "metadata": {},
   "source": [
    "### - Classifier Chain & Naives Bayes"
   ]
  },
  {
   "cell_type": "markdown",
   "id": "88432b3f-8b27-4776-af21-8ff416e2ccc8",
   "metadata": {},
   "source": [
    "As helpful as a base model, the assumption of binary relevance that each label is independent of the others does not hold true for the current multi-label classification task. It was established in the previous notebook that all labels are positively correlated to each other. Hence, in order to take into account of this relationship between labels, a more suitable model would be the classifer chain. It will predict each label sequentially by taking of the correlation between each label. As per the baseline model, naives bayes is also used."
   ]
  },
  {
   "cell_type": "code",
   "execution_count": 16,
   "id": "fdc7456b-4f67-4948-a9ef-add1b99175fc",
   "metadata": {},
   "outputs": [
    {
     "name": "stdout",
     "output_type": "stream",
     "text": [
      "                precision    recall  f1-score   support\n",
      "\n",
      " disrespectful       0.75      0.98      0.85      6899\n",
      "     insulting       0.68      0.98      0.80      6166\n",
      "     offensive       0.66      0.98      0.79      6043\n",
      "discriminating       0.63      0.96      0.76      5861\n",
      "   humiliating       0.58      0.99      0.73      5202\n",
      "       hateful       0.53      0.87      0.66      3659\n",
      "  dehumanizing       0.49      0.75      0.60      3301\n",
      "\n",
      "     micro avg       0.63      0.95      0.76     37131\n",
      "     macro avg       0.62      0.93      0.74     37131\n",
      "  weighted avg       0.64      0.95      0.76     37131\n",
      "   samples avg       0.55      0.70      0.60     37131\n",
      "\n"
     ]
    }
   ],
   "source": [
    "warnings.filterwarnings(\"ignore\")\n",
    "build_model(MultinomialNB(),ClassifierChain,X_train,y_train,X_test,y_test)"
   ]
  },
  {
   "cell_type": "markdown",
   "id": "e6a1d42d-9ced-40b3-b567-663c0fed7f49",
   "metadata": {},
   "source": [
    "### Evaluation of Classifier Chain & Naives Bayes Model\n",
    "\n",
    "- **Individual f-1 Scores**: As compared to the base model, this model is able to perform more consistently across the multi-labels with the worst performing label `dehumanizing` at 0.6. \n",
    "- **Micro Avg & Macro Avg f-1 Scores**: Given the improved f-1 scores of `hateful` and `dehumanizing` labels, the model is able to register better f-1 macro average and micro average scores. \n",
    "- **Precision vs. Recall Scores**: The improvement in f-1 scores came at the expense of the lower precision scores of each individual label. As compared to the base model, almost all (apart from `disrespectful`) saw lower precision scores. Precision macro average score dropped from 0.73 to 0.62, while recall macro average score improved from 0.74 to 0.93. \n",
    "- **Summary**: With both f-1 macro average and micro average scores at least 0.74, this model is promising. Given the relationship between labels, classifier chain model is a suitable model in theory. Practically, the model is also able to produce promising results. It is a model with potential for improvement through further tuning of parameters such as adjusting the alpha value for Naives Bayes or changing the order of labels for Classifier Chain. Nevertheless, the high trade-off between precision and recall of each label is concerning. "
   ]
  },
  {
   "cell_type": "markdown",
   "id": "11505ec8-e640-451b-a787-242f5a46bfa3",
   "metadata": {},
   "source": [
    "### - Multi Label Adaptive Resonance Associative Map (MLARAM) "
   ]
  },
  {
   "cell_type": "markdown",
   "id": "0c23d213-fb04-45e9-a44f-26cdcac9652e",
   "metadata": {},
   "source": [
    "Despite the promising scores of the Classifier Chain & Naives Bayes model, we shall exploring using more complex models to improve the scores. All the models from here on will be neutral network models. The first model is a pre-trained neural network model meant for multi-label classification task. Much like the previous model, the Multi Label Adaptive Resonance Associative Map (MLARAM) produces predictions based on relationships between labels. It works on a hierarchy extraction algorithm is based on building association rules from label co-occurrences. For more information on this model, you can refer to this [documentation](https://ieeexplore.ieee.org/document/5596699?signout=success)."
   ]
  },
  {
   "cell_type": "code",
   "execution_count": 17,
   "id": "80baa1dd-14cc-404d-b586-4aece99c5fca",
   "metadata": {},
   "outputs": [],
   "source": [
    "# Need to convert X_train to np array for this model\n",
    "X_train = np.array(X_train)\n",
    "X_test = np.array(X_test)"
   ]
  },
  {
   "cell_type": "code",
   "execution_count": 18,
   "id": "fe515cbf-37ca-4e3b-b58f-a35c1578160b",
   "metadata": {},
   "outputs": [],
   "source": [
    "classifier = MLARAM()\n",
    "classifier.fit(X_train, y_train)\n",
    "prediction = classifier.predict(X_test)"
   ]
  },
  {
   "cell_type": "code",
   "execution_count": 19,
   "id": "3e78a14c-d758-4f8a-b855-d7d18276d1fb",
   "metadata": {},
   "outputs": [
    {
     "name": "stdout",
     "output_type": "stream",
     "text": [
      "                precision    recall  f1-score   support\n",
      "\n",
      " disrespectful       0.70      0.99      0.82      6899\n",
      "     insulting       0.72      0.56      0.63      6166\n",
      "     offensive       0.70      0.55      0.61      6043\n",
      "discriminating       0.66      0.53      0.59      5861\n",
      "   humiliating       0.63      0.51      0.57      5202\n",
      "       hateful       0.52      0.37      0.43      3659\n",
      "  dehumanizing       0.42      0.04      0.07      3301\n",
      "\n",
      "     micro avg       0.67      0.56      0.61     37131\n",
      "     macro avg       0.62      0.51      0.53     37131\n",
      "  weighted avg       0.65      0.56      0.58     37131\n",
      "   samples avg       0.64      0.44      0.45     37131\n",
      "\n"
     ]
    }
   ],
   "source": [
    "label_names = ['disrespectful', 'insulting', 'offensive', 'discriminating', 'humiliating', 'hateful', 'dehumanizing']\n",
    "print(classification_report(y_test, prediction,target_names=label_names))"
   ]
  },
  {
   "cell_type": "markdown",
   "id": "225299e6-bd50-4858-b371-c7dc35480c73",
   "metadata": {},
   "source": [
    "### Evaluation of MLARAM Model\n",
    "\n",
    "There is no need to evaluate the model in details given the low micro average and macro average scores for precision, recall and f-1 scores across the board (less than 0.7 for all). Despite the room for further tuning, the above initial result of the default parameters shows that it might not be worth the effort."
   ]
  },
  {
   "cell_type": "markdown",
   "id": "9a6f7bbe-6ea8-4a18-99ad-61620a627e6f",
   "metadata": {},
   "source": [
    "### - Neural Network"
   ]
  },
  {
   "cell_type": "markdown",
   "id": "932212d7-72ad-4269-a05d-9e2ce1e25675",
   "metadata": {},
   "source": [
    "Instead of relying on a pre-trained model, we shall now explore the option of training our own neural network model. Given the complexity of neural network, much can be done to vary the structure of the model (from adding more layers, different kinds of layers to adding different regularization techniques). Of course, a potential downside is the issue of overfitting arising due to the overcomplexity of the model. \n",
    "\n",
    "We shall first initiate a simple neural network."
   ]
  },
  {
   "cell_type": "code",
   "execution_count": 20,
   "id": "06949f37-f730-4171-8b5f-338a2c2d4b77",
   "metadata": {},
   "outputs": [],
   "source": [
    "# Initiating seed for reproducible result\n",
    "from numpy.random import seed\n",
    "seed(27)\n",
    "import tensorflow\n",
    "tensorflow.random.set_seed(27)"
   ]
  },
  {
   "cell_type": "code",
   "execution_count": 21,
   "id": "fbc2ef9f-576a-4ed0-b4bc-b121004fdb69",
   "metadata": {},
   "outputs": [
    {
     "name": "stdout",
     "output_type": "stream",
     "text": [
      "Metal device set to: Apple M1\n"
     ]
    },
    {
     "name": "stderr",
     "output_type": "stream",
     "text": [
      "2022-11-17 10:52:24.972346: I tensorflow/core/common_runtime/pluggable_device/pluggable_device_factory.cc:305] Could not identify NUMA node of platform GPU ID 0, defaulting to 0. Your kernel may not have been built with NUMA support.\n",
      "2022-11-17 10:52:24.972452: I tensorflow/core/common_runtime/pluggable_device/pluggable_device_factory.cc:271] Created TensorFlow device (/job:localhost/replica:0/task:0/device:GPU:0 with 0 MB memory) -> physical PluggableDevice (device: 0, name: METAL, pci bus id: <undefined>)\n"
     ]
    }
   ],
   "source": [
    "# Initiating neural network model\n",
    "model = Sequential()\n",
    "model.add(Dense(128, input_shape=(43671,), activation='relu'))\n",
    "model.add(Dense(64, activation='relu'))\n",
    "model.add(Dense(32, activation='relu'))\n",
    "model.add(Dense(7, activation='sigmoid')) "
   ]
  },
  {
   "cell_type": "code",
   "execution_count": 22,
   "id": "9722349c-9fb3-4b67-b6fe-1fbbc32ffe57",
   "metadata": {},
   "outputs": [],
   "source": [
    "opt = Adam(learning_rate=0.0001)\n",
    "model.compile(loss='binary_crossentropy', optimizer= opt, metrics=['accuracy'])"
   ]
  },
  {
   "cell_type": "code",
   "execution_count": 23,
   "id": "61436b34-d456-47d3-9976-7b4c3057bc9d",
   "metadata": {},
   "outputs": [
    {
     "name": "stdout",
     "output_type": "stream",
     "text": [
      "Model: \"sequential\"\n",
      "_________________________________________________________________\n",
      "Layer (type)                 Output Shape              Param #   \n",
      "=================================================================\n",
      "dense (Dense)                (None, 128)               5590016   \n",
      "_________________________________________________________________\n",
      "dense_1 (Dense)              (None, 64)                8256      \n",
      "_________________________________________________________________\n",
      "dense_2 (Dense)              (None, 32)                2080      \n",
      "_________________________________________________________________\n",
      "dense_3 (Dense)              (None, 7)                 231       \n",
      "=================================================================\n",
      "Total params: 5,600,583\n",
      "Trainable params: 5,600,583\n",
      "Non-trainable params: 0\n",
      "_________________________________________________________________\n"
     ]
    }
   ],
   "source": [
    "# Summary of model\n",
    "model.summary()"
   ]
  },
  {
   "cell_type": "code",
   "execution_count": 24,
   "id": "a4b5a2b4-0d8f-4870-a531-cfb0e31e066d",
   "metadata": {},
   "outputs": [
    {
     "name": "stderr",
     "output_type": "stream",
     "text": [
      "2022-11-17 10:52:40.811617: I tensorflow/compiler/mlir/mlir_graph_optimization_pass.cc:176] None of the MLIR Optimization Passes are enabled (registered 2)\n",
      "2022-11-17 10:52:40.811923: W tensorflow/core/platform/profile_utils/cpu_utils.cc:128] Failed to get CPU frequency: 0 Hz\n"
     ]
    },
    {
     "name": "stdout",
     "output_type": "stream",
     "text": [
      "Epoch 1/10\n"
     ]
    },
    {
     "name": "stderr",
     "output_type": "stream",
     "text": [
      "2022-11-17 10:52:41.284647: I tensorflow/core/grappler/optimizers/custom_graph_optimizer_registry.cc:112] Plugin optimizer for device_type GPU is enabled.\n"
     ]
    },
    {
     "name": "stdout",
     "output_type": "stream",
     "text": [
      "58/58 [==============================] - ETA: 0s - loss: 0.6891 - accuracy: 0.1330"
     ]
    },
    {
     "name": "stderr",
     "output_type": "stream",
     "text": [
      "2022-11-17 10:52:50.095763: I tensorflow/core/grappler/optimizers/custom_graph_optimizer_registry.cc:112] Plugin optimizer for device_type GPU is enabled.\n"
     ]
    },
    {
     "name": "stdout",
     "output_type": "stream",
     "text": [
      "58/58 [==============================] - 10s 128ms/step - loss: 0.6891 - accuracy: 0.1330 - val_loss: 0.6913 - val_accuracy: 0.0976\n",
      "Epoch 2/10\n",
      "58/58 [==============================] - 4s 77ms/step - loss: 0.6798 - accuracy: 0.1256 - val_loss: 0.6884 - val_accuracy: 0.1046\n",
      "Epoch 3/10\n",
      "58/58 [==============================] - 4s 71ms/step - loss: 0.6659 - accuracy: 0.1224 - val_loss: 0.6836 - val_accuracy: 0.1133\n",
      "Epoch 4/10\n",
      "58/58 [==============================] - 4s 68ms/step - loss: 0.6427 - accuracy: 0.1501 - val_loss: 0.6764 - val_accuracy: 0.0952\n",
      "Epoch 5/10\n",
      "58/58 [==============================] - 4s 68ms/step - loss: 0.6079 - accuracy: 0.1149 - val_loss: 0.6654 - val_accuracy: 0.0799\n",
      "Epoch 6/10\n",
      "58/58 [==============================] - 4s 67ms/step - loss: 0.5528 - accuracy: 0.1471 - val_loss: 0.6524 - val_accuracy: 0.1648\n",
      "Epoch 7/10\n",
      "58/58 [==============================] - 4s 67ms/step - loss: 0.4800 - accuracy: 0.1347 - val_loss: 0.6345 - val_accuracy: 0.0908\n",
      "Epoch 8/10\n",
      "58/58 [==============================] - 4s 69ms/step - loss: 0.3830 - accuracy: 0.0836 - val_loss: 0.6150 - val_accuracy: 0.0927\n",
      "Epoch 9/10\n",
      "58/58 [==============================] - 4s 68ms/step - loss: 0.2540 - accuracy: 0.1008 - val_loss: 0.5961 - val_accuracy: 0.1157\n",
      "Epoch 10/10\n",
      "58/58 [==============================] - 4s 66ms/step - loss: 0.0992 - accuracy: 0.1439 - val_loss: 0.5782 - val_accuracy: 0.2698\n"
     ]
    }
   ],
   "source": [
    "# Modelling process\n",
    "history = model.fit(X_train, y_train, validation_data=(X_test, y_test), epochs=10, batch_size=512)"
   ]
  },
  {
   "cell_type": "code",
   "execution_count": 25,
   "id": "013be9df-0e2a-4ed7-a3c0-33012dbbd182",
   "metadata": {},
   "outputs": [
    {
     "name": "stderr",
     "output_type": "stream",
     "text": [
      "2022-11-17 10:53:29.438529: I tensorflow/core/grappler/optimizers/custom_graph_optimizer_registry.cc:112] Plugin optimizer for device_type GPU is enabled.\n"
     ]
    }
   ],
   "source": [
    "# Calculating prediction using 0.5 as the cut-off\n",
    "y_pred = model.predict(X_test)\n",
    "y_pred[(y_pred < 0.5)] = 0\n",
    "y_pred[(y_pred >= 0.5)] = 1"
   ]
  },
  {
   "cell_type": "code",
   "execution_count": 26,
   "id": "a2ec245a-7011-4cdb-9d40-99077fd2690e",
   "metadata": {},
   "outputs": [
    {
     "name": "stdout",
     "output_type": "stream",
     "text": [
      "                precision    recall  f1-score   support\n",
      "\n",
      " disrespectful       0.77      0.96      0.86      6899\n",
      "     insulting       0.70      0.97      0.81      6166\n",
      "     offensive       0.67      0.96      0.79      6043\n",
      "discriminating       0.63      0.96      0.76      5861\n",
      "   humiliating       0.65      0.93      0.76      5202\n",
      "       hateful       0.00      0.00      0.00      3659\n",
      "  dehumanizing       0.52      0.71      0.60      3301\n",
      "\n",
      "     micro avg       0.67      0.84      0.75     37131\n",
      "     macro avg       0.56      0.79      0.66     37131\n",
      "  weighted avg       0.61      0.84      0.70     37131\n",
      "   samples avg       0.58      0.63      0.58     37131\n",
      "\n"
     ]
    }
   ],
   "source": [
    "# Classification report of trained model\n",
    "warnings.filterwarnings(\"ignore\")\n",
    "label_names = ['disrespectful', 'insulting', 'offensive', 'discriminating', 'humiliating', 'hateful', 'dehumanizing']\n",
    "print(classification_report(y_test, y_pred,target_names=label_names))"
   ]
  },
  {
   "cell_type": "markdown",
   "id": "b19b8ced-ee19-4232-9a02-e8ad0ce2d73a",
   "metadata": {},
   "source": [
    "Given the tendency of overfitting for neural network models, computation of Mean Square Error (MSE) is necessary to gauge how the model fares on the train and test datasets. The graph below shows signs of overfitting. Despite tuning the model (such as increasing the rate Adam learning and increasing the batch size), overfitting is still present."
   ]
  },
  {
   "cell_type": "code",
   "execution_count": 27,
   "id": "580f6623-f978-4e62-8e88-92f6b80425c7",
   "metadata": {},
   "outputs": [
    {
     "data": {
      "image/png": "[encoded data removed]",
      "text/plain": [
       "<Figure size 700x500 with 1 Axes>"
      ]
     },
     "metadata": {},
     "output_type": "display_data"
    }
   ],
   "source": [
    "# Plotting graph to check for overfitting using MSE loss\n",
    "train_loss = history.history['loss']\n",
    "test_loss = history.history['val_loss']\n",
    "plt.figure(figsize=(7, 5))\n",
    "plt.plot(train_loss, label='Train Loss')\n",
    "plt.plot(test_loss, label='Test Loss')\n",
    "plt.xlabel('Epoch')\n",
    "plt.ylabel('Loss')\n",
    "plt.legend();"
   ]
  },
  {
   "cell_type": "markdown",
   "id": "8794155c-1d1a-442f-b37f-fd6f94ceaa5b",
   "metadata": {},
   "source": [
    "### Evaluation of Neural Network Model\n",
    "\n",
    "Despite the reasonable results of f1-score, the model is clearly overfitted even after the tuning of parameters found within the model. Hence, there will be additional measures such as early dropout, ridge regularization and dropping of nodes would be necessary to prevent overfitting. We shall explore these methods for our next neutral network model."
   ]
  },
  {
   "cell_type": "markdown",
   "id": "10b7038f-1990-466f-bdab-468b98a168b8",
   "metadata": {},
   "source": [
    "###  - Recurrent Neural Network (RNN)"
   ]
  },
  {
   "cell_type": "markdown",
   "id": "f00fb837-d6c5-4b2e-a9be-b059ea01875a",
   "metadata": {},
   "source": [
    "In order to build a more robust model, a more drastic approach needs to be taken against overfitting. As mentioned, this model will accomodate more regularization approaches against overfitting. Moreover, given the nature of text, words should be held in relation of each other using LSTM (Long Term Short Memory) layering which is a type of RNN architecture (Recurrent Neural Network).\n",
    "\n",
    "However, in order to set-up the new model, it will require first the embedding of each word features into vectors. To do so, we will shall use [GloVe](https://nlp.stanford.edu/projects/glove/), which stands for Global Vectors for Word Representation. This pre-trained word vector is provided by Stanford University. The specific model that trained on twitter dataset with 100 dimensions for each word shall be used.\n",
    "\n",
    "Note: Given the size of the "
   ]
  },
  {
   "cell_type": "code",
   "execution_count": 28,
   "id": "a9ddae3d-5cca-463b-81a8-2c05ea702a06",
   "metadata": {},
   "outputs": [
    {
     "name": "stderr",
     "output_type": "stream",
     "text": [
      "1193514it [00:12, 93171.94it/s]"
     ]
    },
    {
     "name": "stdout",
     "output_type": "stream",
     "text": [
      "Found 1193514 word vectors.\n"
     ]
    },
    {
     "name": "stderr",
     "output_type": "stream",
     "text": [
      "\n"
     ]
    }
   ],
   "source": [
    "embeddings_index = {}\n",
    "f = open('glove.twitter.27B.100d.txt',encoding='utf8')\n",
    "for line in tqdm(f):\n",
    "    values = line.split()\n",
    "    word = values[0]\n",
    "    coefs = np.asarray(values[1:], dtype='float32')\n",
    "    embeddings_index[word] = coefs\n",
    "f.close()\n",
    "print('Found %s word vectors.' % len(embeddings_index))"
   ]
  },
  {
   "cell_type": "code",
   "execution_count": 29,
   "id": "127c6956-af4d-4ede-8bf6-4188e4893c72",
   "metadata": {},
   "outputs": [],
   "source": [
    "# Initiating the parameters baased on \n",
    "VOCABULARY_SIZE = 51627\n",
    "MAX_LENGTH = 256"
   ]
  },
  {
   "cell_type": "code",
   "execution_count": 30,
   "id": "4d0b3a83-5708-4823-9772-df626d9b8af4",
   "metadata": {},
   "outputs": [],
   "source": [
    "# Adjusting the text in dataframe\n",
    "X1 = [[i] for i in df['text']]\n",
    "X1 = np.array(X1)"
   ]
  },
  {
   "cell_type": "code",
   "execution_count": 31,
   "id": "3ff8af6d-62ef-4577-91e1-7ded0bb5b0f8",
   "metadata": {},
   "outputs": [],
   "source": [
    "# Initiating rain test split\n",
    "np.random.seed(27)\n",
    "X_train, y_train, X_test, y_test = iterative_train_test_split(X1, y, test_size = 0.25)"
   ]
  },
  {
   "cell_type": "code",
   "execution_count": 32,
   "id": "b4bef2e8-0727-4619-aef1-da70e4ece92f",
   "metadata": {},
   "outputs": [],
   "source": [
    "# Adjusting X_train and X_test to the right format\n",
    "X_train = [i[0] for i in X_train]\n",
    "X_test = [i[0] for i in X_test]"
   ]
  },
  {
   "cell_type": "code",
   "execution_count": 33,
   "id": "86a7e566-d6fe-47bf-894d-339d7d30b031",
   "metadata": {},
   "outputs": [],
   "source": [
    "# Tokenizing both datasets\n",
    "tokenizer = Tokenizer(num_words=VOCABULARY_SIZE+1)\n",
    "tokenizer.fit_on_texts(X_train)\n",
    "xtrain_sequence = tokenizer.texts_to_sequences(X_train)\n",
    "xtest_sequence = tokenizer.texts_to_sequences(X_test)"
   ]
  },
  {
   "cell_type": "code",
   "execution_count": 34,
   "id": "c24bf4ce-3804-4a5d-bf89-180247925f34",
   "metadata": {},
   "outputs": [],
   "source": [
    "# Applying padding \n",
    "xtrain_padding = sequence.pad_sequences(xtrain_sequence, maxlen=MAX_LENGTH)\n",
    "xtest_padding = sequence.pad_sequences(xtest_sequence, maxlen=MAX_LENGTH)\n",
    "word_index = tokenizer.word_index"
   ]
  },
  {
   "cell_type": "code",
   "execution_count": 35,
   "id": "f6228e74-31e9-421f-9239-a29db27c9655",
   "metadata": {},
   "outputs": [
    {
     "name": "stderr",
     "output_type": "stream",
     "text": [
      "100%|█████████████████████████████████| 43724/43724 [00:00<00:00, 553610.40it/s]\n"
     ]
    }
   ],
   "source": [
    "# Embedding matrix\n",
    "embedding_matrix = np.zeros((len(word_index) + 1, 100))\n",
    "for word, i in tqdm(word_index.items()):\n",
    "    embedding_vector = embeddings_index.get(word)\n",
    "    if embedding_vector is not None:\n",
    "        embedding_matrix[i] = embedding_vector"
   ]
  },
  {
   "cell_type": "code",
   "execution_count": 36,
   "id": "32c09b34-7205-4f08-8ab8-4db75fee9383",
   "metadata": {},
   "outputs": [],
   "source": [
    "# Adjusting datasets\n",
    "X_train = np.array(X_train)\n",
    "X_test = np.array(X_test)"
   ]
  },
  {
   "cell_type": "code",
   "execution_count": 37,
   "id": "924bed29-7408-40b8-aaca-1b165611056c",
   "metadata": {},
   "outputs": [],
   "source": [
    "# Initiating seed for reproducible result\n",
    "seed(27)\n",
    "tensorflow.random.set_seed(27)"
   ]
  },
  {
   "cell_type": "code",
   "execution_count": 38,
   "id": "213c76bb-3fd7-41f8-8b25-8d54ac1d4643",
   "metadata": {},
   "outputs": [],
   "source": [
    "rnn_model = Sequential()\n",
    "rnn_model.add(Embedding(len(word_index) + 1,\n",
    " 100,\n",
    " weights=[embedding_matrix],\n",
    " input_length=MAX_LENGTH,\n",
    " trainable=False))\n",
    "rnn_model.add(LSTM(128))\n",
    "rnn_model.add(Dense(64, activation='relu', kernel_regularizer=l2(0.05)))\n",
    "rnn_model.add(Dropout(0.2))\n",
    "rnn_model.add(Dense(32, activation='relu', kernel_regularizer=l2(0.05)))\n",
    "rnn_model.add(Dropout(0.2))\n",
    "rnn_model.add(Dense(7, activation='sigmoid')) "
   ]
  },
  {
   "cell_type": "code",
   "execution_count": 39,
   "id": "954cd115-38c4-48da-a580-1df04d96b796",
   "metadata": {},
   "outputs": [],
   "source": [
    "# Initiating early stop\n",
    "early_stop = EarlyStopping(monitor='val_loss', \n",
    "                           min_delta=0, \n",
    "                           patience=2, \n",
    "                           mode='auto')"
   ]
  },
  {
   "cell_type": "code",
   "execution_count": 40,
   "id": "701b57cd-4340-4d01-8c04-f8a48a2a331c",
   "metadata": {},
   "outputs": [],
   "source": [
    "opt = Adam(learning_rate=0.001)\n",
    "rnn_model.compile(loss='binary_crossentropy', optimizer= opt, metrics=['accuracy'])"
   ]
  },
  {
   "cell_type": "code",
   "execution_count": 41,
   "id": "dae38017-a90c-4a6e-b9ba-fb054fd5ce21",
   "metadata": {},
   "outputs": [
    {
     "name": "stdout",
     "output_type": "stream",
     "text": [
      "Epoch 1/15\n"
     ]
    },
    {
     "name": "stderr",
     "output_type": "stream",
     "text": [
      "2022-11-17 10:54:36.492548: I tensorflow/core/grappler/optimizers/custom_graph_optimizer_registry.cc:112] Plugin optimizer for device_type GPU is enabled.\n",
      "2022-11-17 10:54:36.808759: I tensorflow/core/grappler/optimizers/custom_graph_optimizer_registry.cc:112] Plugin optimizer for device_type GPU is enabled.\n",
      "2022-11-17 10:54:38.021524: I tensorflow/core/grappler/optimizers/custom_graph_optimizer_registry.cc:112] Plugin optimizer for device_type GPU is enabled.\n"
     ]
    },
    {
     "name": "stdout",
     "output_type": "stream",
     "text": [
      "58/58 [==============================] - ETA: 0s - loss: 4.7794 - accuracy: 0.6866"
     ]
    },
    {
     "name": "stderr",
     "output_type": "stream",
     "text": [
      "2022-11-17 10:55:00.565197: I tensorflow/core/grappler/optimizers/custom_graph_optimizer_registry.cc:112] Plugin optimizer for device_type GPU is enabled.\n",
      "2022-11-17 10:55:00.614945: I tensorflow/core/grappler/optimizers/custom_graph_optimizer_registry.cc:112] Plugin optimizer for device_type GPU is enabled.\n"
     ]
    },
    {
     "name": "stdout",
     "output_type": "stream",
     "text": [
      "58/58 [==============================] - 28s 414ms/step - loss: 4.7794 - accuracy: 0.6866 - val_loss: 3.0006 - val_accuracy: 0.8131\n",
      "Epoch 2/15\n",
      "58/58 [==============================] - 21s 354ms/step - loss: 2.1047 - accuracy: 0.7077 - val_loss: 1.4222 - val_accuracy: 0.7916\n",
      "Epoch 3/15\n",
      "58/58 [==============================] - 21s 364ms/step - loss: 1.0971 - accuracy: 0.7501 - val_loss: 0.8688 - val_accuracy: 0.9006\n",
      "Epoch 4/15\n",
      "58/58 [==============================] - 21s 362ms/step - loss: 0.7434 - accuracy: 0.7849 - val_loss: 0.6520 - val_accuracy: 0.8363\n",
      "Epoch 5/15\n",
      "58/58 [==============================] - 21s 364ms/step - loss: 0.6125 - accuracy: 0.8051 - val_loss: 0.5766 - val_accuracy: 0.8681\n",
      "Epoch 6/15\n",
      "58/58 [==============================] - 20s 342ms/step - loss: 0.5637 - accuracy: 0.8227 - val_loss: 0.5575 - val_accuracy: 0.8327\n",
      "Epoch 7/15\n",
      "58/58 [==============================] - 20s 347ms/step - loss: 0.5444 - accuracy: 0.8260 - val_loss: 0.5396 - val_accuracy: 0.8868\n",
      "Epoch 8/15\n",
      "58/58 [==============================] - 20s 353ms/step - loss: 0.5326 - accuracy: 0.8238 - val_loss: 0.5313 - val_accuracy: 0.8459\n",
      "Epoch 9/15\n",
      "58/58 [==============================] - 21s 360ms/step - loss: 0.5253 - accuracy: 0.8269 - val_loss: 0.5273 - val_accuracy: 0.8658\n",
      "Epoch 10/15\n",
      "58/58 [==============================] - 20s 342ms/step - loss: 0.5187 - accuracy: 0.8309 - val_loss: 0.5253 - val_accuracy: 0.8350\n",
      "Epoch 11/15\n",
      "58/58 [==============================] - 20s 338ms/step - loss: 0.5124 - accuracy: 0.8256 - val_loss: 0.5233 - val_accuracy: 0.8555\n",
      "Epoch 12/15\n",
      "58/58 [==============================] - 20s 338ms/step - loss: 0.5085 - accuracy: 0.8366 - val_loss: 0.5226 - val_accuracy: 0.8535\n",
      "Epoch 13/15\n",
      "58/58 [==============================] - 20s 349ms/step - loss: 0.5033 - accuracy: 0.8332 - val_loss: 0.5232 - val_accuracy: 0.8430\n",
      "Epoch 14/15\n",
      "58/58 [==============================] - 19s 334ms/step - loss: 0.4999 - accuracy: 0.8286 - val_loss: 0.5233 - val_accuracy: 0.8663\n"
     ]
    }
   ],
   "source": [
    "# Initiating rnn model\n",
    "rnn_history = rnn_model.fit(\n",
    "    xtrain_padding,\n",
    "    y_train,\n",
    "    validation_data=(xtest_padding, y_test),\n",
    "    epochs=15,\n",
    "    batch_size=512,\n",
    "    callbacks=[early_stop]\n",
    ")"
   ]
  },
  {
   "cell_type": "code",
   "execution_count": 42,
   "id": "3daed370-e109-4747-8084-5df9de8ccce4",
   "metadata": {},
   "outputs": [
    {
     "name": "stderr",
     "output_type": "stream",
     "text": [
      "2022-11-17 10:59:27.627070: I tensorflow/core/grappler/optimizers/custom_graph_optimizer_registry.cc:112] Plugin optimizer for device_type GPU is enabled.\n",
      "2022-11-17 10:59:27.651949: I tensorflow/core/grappler/optimizers/custom_graph_optimizer_registry.cc:112] Plugin optimizer for device_type GPU is enabled.\n"
     ]
    }
   ],
   "source": [
    "# Calculating prediction using 0.5 as the cut-off\n",
    "y_pred = rnn_model.predict(xtest_padding)\n",
    "y_pred[(y_pred < 0.5)] = 0\n",
    "y_pred[(y_pred >= 0.5)] = 1"
   ]
  },
  {
   "cell_type": "code",
   "execution_count": 43,
   "id": "f0e7e546-17ee-488b-9145-34958f7c8735",
   "metadata": {},
   "outputs": [
    {
     "name": "stdout",
     "output_type": "stream",
     "text": [
      "                precision    recall  f1-score   support\n",
      "\n",
      " disrespectful       0.82      0.93      0.87      6899\n",
      "     insulting       0.77      0.92      0.84      6166\n",
      "     offensive       0.74      0.89      0.81      6043\n",
      "discriminating       0.71      0.87      0.78      5861\n",
      "   humiliating       0.72      0.84      0.78      5202\n",
      "       hateful       0.66      0.72      0.69      3659\n",
      "  dehumanizing       0.58      0.55      0.57      3301\n",
      "\n",
      "     micro avg       0.73      0.85      0.79     37131\n",
      "     macro avg       0.71      0.82      0.76     37131\n",
      "  weighted avg       0.73      0.85      0.78     37131\n",
      "   samples avg       0.56      0.61      0.56     37131\n",
      "\n"
     ]
    }
   ],
   "source": [
    "warnings.filterwarnings(\"ignore\")\n",
    "label_names = ['disrespectful', 'insulting', 'offensive', 'discriminating', 'humiliating', 'hateful', 'dehumanizing']\n",
    "print(classification_report(y_test, y_pred,target_names=label_names))"
   ]
  },
  {
   "cell_type": "code",
   "execution_count": 44,
   "id": "d0139b8d-1c50-478a-8ad6-7f90a0c6103c",
   "metadata": {},
   "outputs": [
    {
     "data": {
      "image/png": "[encoded data removed]",
      "text/plain": [
       "<Figure size 700x500 with 1 Axes>"
      ]
     },
     "metadata": {},
     "output_type": "display_data"
    }
   ],
   "source": [
    "# Plotting graph to check for overfitting using MSE loss\n",
    "train_loss = rnn_history.history['loss']\n",
    "test_loss = rnn_history.history['val_loss']\n",
    "plt.figure(figsize=(7, 5))\n",
    "plt.plot(train_loss, label='Training Loss')\n",
    "plt.plot(test_loss, label='Testing Loss')\n",
    "plt.xlabel('Epoch')\n",
    "plt.ylabel('Loss')\n",
    "plt.legend();"
   ]
  },
  {
   "cell_type": "markdown",
   "id": "fc4a6a47-f859-41d4-89a9-9066859ab74a",
   "metadata": {},
   "source": [
    "### Evaluation of RNN\n",
    "\n",
    "Unlike the previous neural network model, the current RNN model is able to eliminate overfitting successfully. Despite the inherent trade-off between precision and recall scores, the model is able to register impressive scores of above 0.7 and above 0.8 for precision and recall scores respectively. The section below shall compare the model against all the other models."
   ]
  },
  {
   "cell_type": "markdown",
   "id": "ca967ec3-8383-4a05-a58f-f40ded214c24",
   "metadata": {
    "tags": []
   },
   "source": [
    "## 5. Evaluation of Best Model"
   ]
  },
  {
   "cell_type": "markdown",
   "id": "d0042686-6c13-4794-b3e6-e6cf408c1436",
   "metadata": {},
   "source": [
    "Index | Model | Precision Macro Avg |  Recall Macro Avg | f-1 Macro Avg | Remarks | \n",
    "|:----:|:----|:----:|:----:| :----:| :----|\n",
    "|1| Binary Relevance & Naives Bayes | 0.73 | 0.74 |0.70 | Assumed labels are not related to each other |\n",
    "|2| Classifier Chain & Naives Bayes | 0.62 | 0.93 |0.74 | Produced good f-1 score at the expense of precision |\n",
    "|3| MLARAM | 0.62 | 0.51 |0.53 | Registered bad scores across  |\n",
    "|4| Neural Network | 0.56 | 0.79 |0.66 | Clear overfitting  |\n",
    "|5| RNN | 0.71 | 0.82 |0.76 | Best Model based on f-1 score |"
   ]
  },
  {
   "cell_type": "markdown",
   "id": "566dda2b-4a0e-4322-9334-686c61edd23c",
   "metadata": {},
   "source": [
    "Based on the above summary of models, RNN is clearly the best performing with a f-1 score of 0.76. Moreover, despite the close score with the Classifier Chain & Naives Bayes model, it was able to better address the issue of low precision score. With that, RNN is chosen as the best model. The model and its tokenizer will be exported for Streamlit API implementation."
   ]
  },
  {
   "cell_type": "code",
   "execution_count": 45,
   "id": "0b6ac7b1-8698-4374-97a5-4de3f5cc86b5",
   "metadata": {},
   "outputs": [],
   "source": [
    "# Exporting the tokenizer for Streamlit API\n",
    "with open('rnn_token', 'wb') as files:\n",
    "    pickle.dump(tokenizer, files)"
   ]
  },
  {
   "cell_type": "code",
   "execution_count": 46,
   "id": "b4a4a7b2-9f2a-4fdc-b066-1ee040af34b8",
   "metadata": {},
   "outputs": [],
   "source": [
    "# Exporting the model for Streamlit API\n",
    "rnn_model.save('rnn_model.h5')"
   ]
  },
  {
   "cell_type": "markdown",
   "id": "645baea3-959f-4a9a-b149-1226bad269e9",
   "metadata": {},
   "source": [
    "## 6. Summary of Notebook 2"
   ]
  },
  {
   "cell_type": "markdown",
   "id": "ce4d87a1-e975-4d50-8b01-3af41f15334b",
   "metadata": {},
   "source": [
    "In short, this notebook managed to achieve the following: \n",
    "1. Ran five different multi-label classification models including a base model;\n",
    "2. Picked out the best model (RNN) using macro average score of f-1 score, recall and precision; and \n",
    "3. Exported the best model and its tokenizer to build Streamlit API."
   ]
  }
 ],
 "metadata": {
  "kernelspec": {
   "display_name": "Python 3 (ipykernel)",
   "language": "python",
   "name": "python3"
  },
  "language_info": {
   "codemirror_mode": {
    "name": "ipython",
    "version": 3
   },
   "file_extension": ".py",
   "mimetype": "text/x-python",
   "name": "python",
   "nbconvert_exporter": "python",
   "pygments_lexer": "ipython3",
   "version": "3.9.13"
  }
 },
 "nbformat": 4,
 "nbformat_minor": 5
}
