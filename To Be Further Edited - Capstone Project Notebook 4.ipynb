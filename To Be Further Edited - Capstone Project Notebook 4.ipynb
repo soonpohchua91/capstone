{
 "cells": [
  {
   "cell_type": "markdown",
   "id": "3d2c2e86-d9b2-452e-bd4c-21ba1abf8e52",
   "metadata": {},
   "source": [
    "<img src=\"http://imgur.com/1ZcRyrc.png\" style=\"float: left; margin: 20px; height: 55px\"> \n",
    "\n",
    "# Capstone Project: Hate Speech Analysis"
   ]
  },
  {
   "cell_type": "markdown",
   "id": "a0f2e0c2-2b9b-46eb-b2c2-520e9132359d",
   "metadata": {},
   "source": [
    "Note: This is supposed to be part 4 of the code notebook covering: (1) Streamlit API Implementation, (2) Limitations of Project and (3) Future works. This is still work in progress.\n",
    "\n",
    "As a recap, an overview of the project workflow is shown below:"
   ]
  },
  {
   "cell_type": "markdown",
   "id": "209da2f3-8f41-4b89-9c0d-1c76e2c46c42",
   "metadata": {},
   "source": [
    "![image](image.png)"
   ]
  },
  {
   "cell_type": "markdown",
   "id": "00270f15-0d59-4b7e-b4fd-0abc85d996af",
   "metadata": {},
   "source": [
    "## Streamlit API Implementation\n",
    "\n",
    "Streamlit API is directly implemented via [GitHub](https://github.com/soonpohchua91). It can be accessed [here](https://soonpohchua-test-streamlit-streamlit-app-nmok9e.streamlit.app/). This section is meant to futher cover the thought process of the Streamlit API implementation, especially in integrating all three components (hate words scraped from hatebase, RNN model and emotion analysis. Codes can be found in the 'streamlit_app.py' file under the 'streamlit' folder."
   ]
  },
  {
   "cell_type": "markdown",
   "id": "5039fea0-5a93-40d7-8894-12bbeab17b48",
   "metadata": {
    "jp-MarkdownHeadingCollapsed": true,
    "tags": []
   },
   "source": [
    "## Limitations of Project\n",
    "\n",
    "This section shall cover:\n",
    "1. **Background of Dataset** (covering both the focus of America & profile of annotators; expensive to redo such a study due to the cost of golden labelling work)\n",
    "2. **Importance of Context in Language** (much can still be done despite using RNN)\n",
    "3. **Further Testing of Streamlit API** (need to check for further discrepancies and potentially refine or incorporate more models)"
   ]
  },
  {
   "cell_type": "markdown",
   "id": "2e7857cb-9819-4613-a215-5365285240da",
   "metadata": {},
   "source": [
    "## Future Works"
   ]
  },
  {
   "cell_type": "markdown",
   "id": "41a497c6-d5ad-4ec5-9ace-4e05c43ce46d",
   "metadata": {},
   "source": [
    "Moving forward, this project will explore upscaling by: \n",
    "    \n",
    "1. **Making API more accessible** (given that the API is a website outside of the social media website, it is cumbersome for users to use. API can be more accessible perhaps by producing a widget embedded within the website)\n",
    "2. **Incorporating Images** (enhance the project by allowing users the option of uploading images to post together with the text)\n",
    "\n",
    "Further research will be required to beef up this section."
   ]
  }
 ],
 "metadata": {
  "kernelspec": {
   "display_name": "Python 3 (ipykernel)",
   "language": "python",
   "name": "python3"
  },
  "language_info": {
   "codemirror_mode": {
    "name": "ipython",
    "version": 3
   },
   "file_extension": ".py",
   "mimetype": "text/x-python",
   "name": "python",
   "nbconvert_exporter": "python",
   "pygments_lexer": "ipython3",
   "version": "3.9.13"
  }
 },
 "nbformat": 4,
 "nbformat_minor": 5
}
